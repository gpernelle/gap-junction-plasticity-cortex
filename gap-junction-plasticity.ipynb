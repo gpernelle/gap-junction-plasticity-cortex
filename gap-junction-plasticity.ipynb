{
 "cells": [
  {
   "cell_type": "code",
   "execution_count": 1,
   "metadata": {
    "collapsed": false
   },
   "outputs": [],
   "source": [
    "%matplotlib inline\n",
    "from fns import *\n",
    "from fns.functionsTF import *"
   ]
  },
  {
   "cell_type": "code",
   "execution_count": 2,
   "metadata": {
    "collapsed": false
   },
   "outputs": [
    {
     "name": "stdout",
     "output_type": "stream",
     "text": [
      "1000 800 200\n",
      "1000 800 200\n"
     ]
    },
    {
     "name": "stderr",
     "output_type": "stream",
     "text": [
      "100%|██████████| 120000/120000 [06:55<00:00, 289.01it/s]\n"
     ]
    },
    {
     "name": "stdout",
     "output_type": "stream",
     "text": [
      "\n",
      "415.54\n",
      "\n",
      "1000 800 200\n",
      "1000 800 200\n"
     ]
    },
    {
     "name": "stderr",
     "output_type": "stream",
     "text": [
      "100%|██████████| 120000/120000 [06:57<00:00, 287.10it/s]\n"
     ]
    },
    {
     "name": "stdout",
     "output_type": "stream",
     "text": [
      "\n",
      "418.37\n",
      "\n",
      "1000 800 200\n",
      "1000 800 200\n"
     ]
    },
    {
     "name": "stderr",
     "output_type": "stream",
     "text": [
      "100%|██████████| 120000/120000 [06:56<00:00, 288.15it/s]\n"
     ]
    },
    {
     "name": "stdout",
     "output_type": "stream",
     "text": [
      "\n",
      "416.65\n",
      "\n"
     ]
    }
   ],
   "source": [
    "params = []\n",
    "res = []\n",
    "config = load_config()\n",
    "glist = [1,5,7]\n",
    "    \n",
    "for g in glist:\n",
    "    T = 120000\n",
    "\n",
    "    gpu = TfConnEvolveNet(config=config, T=T)\n",
    "\n",
    "    # number of excitatory neurons\n",
    "    gpu.NE1=800\n",
    "    # number of inhibitory neurons\n",
    "    gpu.NI1=200\n",
    "\n",
    "    # mean input drive\n",
    "    gpu.nu = 120\n",
    "    gpu.device = '/gpu:0'\n",
    "\n",
    "    # mean initial gap junction coupling\n",
    "    gpu.g1 = g\n",
    "\n",
    "    # do not save the spikes\n",
    "    gpu.spikeMonitor = False\n",
    "    # do not save the individual voltages, currents, etc.\n",
    "    gpu.monitor_single = False\n",
    "\n",
    "    # iteration \n",
    "    gpu.stabTime = 1\n",
    "\n",
    "    # rule: g0 = 0 for no bound rule, g0 = 10 for softbound rule\n",
    "    gpu.g0 = 10\n",
    "\n",
    "    gpu.runTFSimul()\n",
    "    res.append(gpu)\n",
    "    del gpu  \n",
    "    gc.collect()"
   ]
  },
  {
   "cell_type": "code",
   "execution_count": 3,
   "metadata": {
    "collapsed": true
   },
   "outputs": [],
   "source": [
    "## Evolution of the mean gap junction coupling"
   ]
  },
  {
   "cell_type": "code",
   "execution_count": 15,
   "metadata": {
    "collapsed": false
   },
   "outputs": [
    {
     "data": {
      "text/plain": [
       "<matplotlib.text.Text at 0x7f1da46647f0>"
      ]
     },
     "execution_count": 15,
     "metadata": {},
     "output_type": "execute_result"
    },
    {
     "data": {
      "image/png": "[encoded data removed]",
      "text/plain": [
       "<matplotlib.figure.Figure at 0x7f1da4760208>"
      ]
     },
     "metadata": {},
     "output_type": "display_data"
    }
   ],
   "source": [
    "scale = res[1].gm1[0]/5\n",
    "\n",
    "for i in range(3):\n",
    "    plt.plot(res[i].gm1/scale)\n",
    "plt.title('Mean gap junction coupling')\n",
    "plt.xlabel('Time [ms]')"
   ]
  },
  {
   "cell_type": "code",
   "execution_count": null,
   "metadata": {
    "collapsed": true
   },
   "outputs": [],
   "source": []
  }
 ],
 "metadata": {
  "kernelspec": {
   "display_name": "Python 3",
   "language": "python",
   "name": "python3"
  },
  "language_info": {
   "codemirror_mode": {
    "name": "ipython",
    "version": 3
   },
   "file_extension": ".py",
   "mimetype": "text/x-python",
   "name": "python",
   "nbconvert_exporter": "python",
   "pygments_lexer": "ipython3",
   "version": "3.6.0"
  }
 },
 "nbformat": 4,
 "nbformat_minor": 2
}
